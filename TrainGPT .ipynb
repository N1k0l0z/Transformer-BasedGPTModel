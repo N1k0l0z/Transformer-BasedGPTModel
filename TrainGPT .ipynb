{
 "cells": [
  {
   "cell_type": "code",
   "execution_count": 1,
   "metadata": {
    "colab": {
     "base_uri": "https://localhost:8080/"
    },
    "id": "Usy5xmyucK-K",
    "outputId": "6d507199-a0c9-445a-8fa2-8ffdbbfd90d6"
   },
   "outputs": [],
   "source": [
    "#from google.colab import drive\n",
    "#drive.mount('/content/drive')"
   ]
  },
  {
   "cell_type": "code",
   "execution_count": 2,
   "metadata": {
    "id": "_IHlMnP0ckNO"
   },
   "outputs": [],
   "source": [
    "#import sys\n",
    "#sys.path.append('/content/drive/MyDrive/Transformer-BasedGPTModel')"
   ]
  },
  {
   "cell_type": "code",
   "execution_count": 3,
   "metadata": {
    "id": "xzJ8QVX0cTHg"
   },
   "outputs": [
    {
     "name": "stdout",
     "output_type": "stream",
     "text": [
      "Defaulting to user installation because normal site-packages is not writeable\n",
      "Requirement already satisfied: dill in c:\\programdata\\anaconda3\\lib\\site-packages (0.3.4)\n"
     ]
    }
   ],
   "source": [
    "!pip install dill\n",
    "import dill as pickle\n",
    "import torch\n",
    "from GPTLanguageModel import GPTLanguageModel\n",
    "import os"
   ]
  },
  {
   "cell_type": "code",
   "execution_count": 4,
   "metadata": {
    "colab": {
     "base_uri": "https://localhost:8080/"
    },
    "id": "xSpCWXFKcgzB",
    "outputId": "71f08288-96b8-4496-d178-77f80d410735"
   },
   "outputs": [
    {
     "data": {
      "text/plain": [
       "<torch._C.Generator at 0x235fbfbbfb0>"
      ]
     },
     "execution_count": 4,
     "metadata": {},
     "output_type": "execute_result"
    }
   ],
   "source": [
    "batch_size = 64\n",
    "block_size = 256 # maximum number of tokens the model can use as input at once when making predictions.\n",
    "max_iters = 5000\n",
    "eval_interval = 20\n",
    "learning_rate = 3e-6\n",
    "device = 'cuda' if torch.cuda.is_available() else 'cpu'\n",
    "eval_iters = 200\n",
    "torch.manual_seed(1337)"
   ]
  },
  {
   "cell_type": "code",
   "execution_count": 5,
   "metadata": {
    "id": "6S_sahaMc8og"
   },
   "outputs": [],
   "source": [
    "with open('C:\\\\Users\\\\NiKordzakhia\\\\Desktop\\\\Transformer-BasedGPTModel\\\\vefxistyaosani.txt', 'r', encoding='utf-8') as f:\n",
    "    text = f.read()"
   ]
  },
  {
   "cell_type": "code",
   "execution_count": 6,
   "metadata": {
    "id": "fv7PzrXddIlk"
   },
   "outputs": [],
   "source": [
    "with open('C:\\\\Users\\\\NiKordzakhia\\\\Desktop\\\\Transformer-BasedGPTModel\\\\tokenizer', 'rb') as f:\n",
    "    tokenizer = pickle.load(f)"
   ]
  },
  {
   "cell_type": "code",
   "execution_count": 7,
   "metadata": {
    "id": "2j6SwDmRdN1S"
   },
   "outputs": [],
   "source": [
    "#data = torch.tensor(tokenizer.encode(text), dtype=torch.long)\n",
    "#torch.save(data, 'C:\\\\Users\\\\NiKordzakhia\\\\Desktop\\\\Transformer-BasedGPTModel\\\\data.pt')\n",
    "data = torch.load('C:\\\\Users\\\\NiKordzakhia\\\\Desktop\\\\Transformer-BasedGPTModel\\\\data.pt')\n",
    "n = int(0.9*len(data))\n",
    "train_data = data[:n]\n",
    "val_data = data[n:]"
   ]
  },
  {
   "cell_type": "code",
   "execution_count": 8,
   "metadata": {},
   "outputs": [],
   "source": [
    "n = int(0.9*len(data))\n",
    "train_data = data[:n]\n",
    "val_data = data[n:]"
   ]
  },
  {
   "cell_type": "code",
   "execution_count": 9,
   "metadata": {
    "id": "oOhfA2S7dgst"
   },
   "outputs": [],
   "source": [
    "def get_batch(split):\n",
    "    data = train_data if split == 'train' else val_data\n",
    "    ix = torch.randint(len(data) - block_size, (batch_size,))\n",
    "    x = torch.stack([data[i:i+block_size] for i in ix])\n",
    "    y = torch.stack([data[i+1:i+block_size+1] for i in ix])\n",
    "    x, y = x.to(device), y.to(device)\n",
    "    return x, y"
   ]
  },
  {
   "cell_type": "code",
   "execution_count": 10,
   "metadata": {
    "colab": {
     "base_uri": "https://localhost:8080/"
    },
    "id": "Ln9kv3qZpYVW",
    "outputId": "6ba92865-58ce-4431-def3-1d46aa1fa2b1"
   },
   "outputs": [
    {
     "name": "stdout",
     "output_type": "stream",
     "text": [
      "inputs:\n",
      "torch.Size([64, 256])\n",
      "targets:\n",
      "torch.Size([64, 256])\n"
     ]
    }
   ],
   "source": [
    "x, y = get_batch('train')\n",
    "print('inputs:')\n",
    "print(x.shape)\n",
    "print('targets:')\n",
    "print(y.shape)"
   ]
  },
  {
   "cell_type": "code",
   "execution_count": 11,
   "metadata": {
    "id": "mxDkQjLudh0O"
   },
   "outputs": [],
   "source": [
    "@torch.no_grad()\n",
    "def estimate_loss():\n",
    "    out = {}\n",
    "    model.eval()\n",
    "    for split in ['train', 'val']:\n",
    "        losses = torch.zeros(eval_iters)\n",
    "        for k in range(eval_iters):\n",
    "            X, Y = get_batch(split)\n",
    "            logits, loss = model(X, Y)\n",
    "            losses[k] = loss.item()\n",
    "        out[split] = losses.mean()\n",
    "    model.train()\n",
    "    return out"
   ]
  },
  {
   "cell_type": "code",
   "execution_count": 15,
   "metadata": {
    "colab": {
     "base_uri": "https://localhost:8080/"
    },
    "id": "RmvZm7W-dkMg",
    "outputId": "e57a058a-b7a0-48f7-9dd3-c220cf4023e8"
   },
   "outputs": [
    {
     "name": "stdout",
     "output_type": "stream",
     "text": [
      "GPTLanguageModel(\n",
      "  (token_embedding_table): Embedding(7000, 256)\n",
      "  (position_embedding_table): Embedding(256, 256)\n",
      "  (blocks): Sequential(\n",
      "    (0): Block(\n",
      "      (sa): MultiHeadAttention(\n",
      "        (heads): ModuleList(\n",
      "          (0-15): 16 x Head(\n",
      "            (key): Linear(in_features=256, out_features=16, bias=False)\n",
      "            (query): Linear(in_features=256, out_features=16, bias=False)\n",
      "            (value): Linear(in_features=256, out_features=16, bias=False)\n",
      "            (dropout): Dropout(p=0.2, inplace=False)\n",
      "          )\n",
      "        )\n",
      "        (proj): Linear(in_features=256, out_features=256, bias=True)\n",
      "        (dropout): Dropout(p=0.2, inplace=False)\n",
      "      )\n",
      "      (ffwd): FeedFoward(\n",
      "        (net): Sequential(\n",
      "          (0): Linear(in_features=256, out_features=1024, bias=True)\n",
      "          (1): ReLU()\n",
      "          (2): Linear(in_features=1024, out_features=256, bias=True)\n",
      "          (3): Dropout(p=0.2, inplace=False)\n",
      "        )\n",
      "      )\n",
      "      (ln1): LayerNorm()\n",
      "      (ln2): LayerNorm()\n",
      "    )\n",
      "    (1): Block(\n",
      "      (sa): MultiHeadAttention(\n",
      "        (heads): ModuleList(\n",
      "          (0-15): 16 x Head(\n",
      "            (key): Linear(in_features=256, out_features=16, bias=False)\n",
      "            (query): Linear(in_features=256, out_features=16, bias=False)\n",
      "            (value): Linear(in_features=256, out_features=16, bias=False)\n",
      "            (dropout): Dropout(p=0.2, inplace=False)\n",
      "          )\n",
      "        )\n",
      "        (proj): Linear(in_features=256, out_features=256, bias=True)\n",
      "        (dropout): Dropout(p=0.2, inplace=False)\n",
      "      )\n",
      "      (ffwd): FeedFoward(\n",
      "        (net): Sequential(\n",
      "          (0): Linear(in_features=256, out_features=1024, bias=True)\n",
      "          (1): ReLU()\n",
      "          (2): Linear(in_features=1024, out_features=256, bias=True)\n",
      "          (3): Dropout(p=0.2, inplace=False)\n",
      "        )\n",
      "      )\n",
      "      (ln1): LayerNorm()\n",
      "      (ln2): LayerNorm()\n",
      "    )\n",
      "    (2): Block(\n",
      "      (sa): MultiHeadAttention(\n",
      "        (heads): ModuleList(\n",
      "          (0-15): 16 x Head(\n",
      "            (key): Linear(in_features=256, out_features=16, bias=False)\n",
      "            (query): Linear(in_features=256, out_features=16, bias=False)\n",
      "            (value): Linear(in_features=256, out_features=16, bias=False)\n",
      "            (dropout): Dropout(p=0.2, inplace=False)\n",
      "          )\n",
      "        )\n",
      "        (proj): Linear(in_features=256, out_features=256, bias=True)\n",
      "        (dropout): Dropout(p=0.2, inplace=False)\n",
      "      )\n",
      "      (ffwd): FeedFoward(\n",
      "        (net): Sequential(\n",
      "          (0): Linear(in_features=256, out_features=1024, bias=True)\n",
      "          (1): ReLU()\n",
      "          (2): Linear(in_features=1024, out_features=256, bias=True)\n",
      "          (3): Dropout(p=0.2, inplace=False)\n",
      "        )\n",
      "      )\n",
      "      (ln1): LayerNorm()\n",
      "      (ln2): LayerNorm()\n",
      "    )\n",
      "    (3): Block(\n",
      "      (sa): MultiHeadAttention(\n",
      "        (heads): ModuleList(\n",
      "          (0-15): 16 x Head(\n",
      "            (key): Linear(in_features=256, out_features=16, bias=False)\n",
      "            (query): Linear(in_features=256, out_features=16, bias=False)\n",
      "            (value): Linear(in_features=256, out_features=16, bias=False)\n",
      "            (dropout): Dropout(p=0.2, inplace=False)\n",
      "          )\n",
      "        )\n",
      "        (proj): Linear(in_features=256, out_features=256, bias=True)\n",
      "        (dropout): Dropout(p=0.2, inplace=False)\n",
      "      )\n",
      "      (ffwd): FeedFoward(\n",
      "        (net): Sequential(\n",
      "          (0): Linear(in_features=256, out_features=1024, bias=True)\n",
      "          (1): ReLU()\n",
      "          (2): Linear(in_features=1024, out_features=256, bias=True)\n",
      "          (3): Dropout(p=0.2, inplace=False)\n",
      "        )\n",
      "      )\n",
      "      (ln1): LayerNorm()\n",
      "      (ln2): LayerNorm()\n",
      "    )\n",
      "    (4): Block(\n",
      "      (sa): MultiHeadAttention(\n",
      "        (heads): ModuleList(\n",
      "          (0-15): 16 x Head(\n",
      "            (key): Linear(in_features=256, out_features=16, bias=False)\n",
      "            (query): Linear(in_features=256, out_features=16, bias=False)\n",
      "            (value): Linear(in_features=256, out_features=16, bias=False)\n",
      "            (dropout): Dropout(p=0.2, inplace=False)\n",
      "          )\n",
      "        )\n",
      "        (proj): Linear(in_features=256, out_features=256, bias=True)\n",
      "        (dropout): Dropout(p=0.2, inplace=False)\n",
      "      )\n",
      "      (ffwd): FeedFoward(\n",
      "        (net): Sequential(\n",
      "          (0): Linear(in_features=256, out_features=1024, bias=True)\n",
      "          (1): ReLU()\n",
      "          (2): Linear(in_features=1024, out_features=256, bias=True)\n",
      "          (3): Dropout(p=0.2, inplace=False)\n",
      "        )\n",
      "      )\n",
      "      (ln1): LayerNorm()\n",
      "      (ln2): LayerNorm()\n",
      "    )\n",
      "    (5): Block(\n",
      "      (sa): MultiHeadAttention(\n",
      "        (heads): ModuleList(\n",
      "          (0-15): 16 x Head(\n",
      "            (key): Linear(in_features=256, out_features=16, bias=False)\n",
      "            (query): Linear(in_features=256, out_features=16, bias=False)\n",
      "            (value): Linear(in_features=256, out_features=16, bias=False)\n",
      "            (dropout): Dropout(p=0.2, inplace=False)\n",
      "          )\n",
      "        )\n",
      "        (proj): Linear(in_features=256, out_features=256, bias=True)\n",
      "        (dropout): Dropout(p=0.2, inplace=False)\n",
      "      )\n",
      "      (ffwd): FeedFoward(\n",
      "        (net): Sequential(\n",
      "          (0): Linear(in_features=256, out_features=1024, bias=True)\n",
      "          (1): ReLU()\n",
      "          (2): Linear(in_features=1024, out_features=256, bias=True)\n",
      "          (3): Dropout(p=0.2, inplace=False)\n",
      "        )\n",
      "      )\n",
      "      (ln1): LayerNorm()\n",
      "      (ln2): LayerNorm()\n",
      "    )\n",
      "    (6): Block(\n",
      "      (sa): MultiHeadAttention(\n",
      "        (heads): ModuleList(\n",
      "          (0-15): 16 x Head(\n",
      "            (key): Linear(in_features=256, out_features=16, bias=False)\n",
      "            (query): Linear(in_features=256, out_features=16, bias=False)\n",
      "            (value): Linear(in_features=256, out_features=16, bias=False)\n",
      "            (dropout): Dropout(p=0.2, inplace=False)\n",
      "          )\n",
      "        )\n",
      "        (proj): Linear(in_features=256, out_features=256, bias=True)\n",
      "        (dropout): Dropout(p=0.2, inplace=False)\n",
      "      )\n",
      "      (ffwd): FeedFoward(\n",
      "        (net): Sequential(\n",
      "          (0): Linear(in_features=256, out_features=1024, bias=True)\n",
      "          (1): ReLU()\n",
      "          (2): Linear(in_features=1024, out_features=256, bias=True)\n",
      "          (3): Dropout(p=0.2, inplace=False)\n",
      "        )\n",
      "      )\n",
      "      (ln1): LayerNorm()\n",
      "      (ln2): LayerNorm()\n",
      "    )\n",
      "    (7): Block(\n",
      "      (sa): MultiHeadAttention(\n",
      "        (heads): ModuleList(\n",
      "          (0-15): 16 x Head(\n",
      "            (key): Linear(in_features=256, out_features=16, bias=False)\n",
      "            (query): Linear(in_features=256, out_features=16, bias=False)\n",
      "            (value): Linear(in_features=256, out_features=16, bias=False)\n",
      "            (dropout): Dropout(p=0.2, inplace=False)\n",
      "          )\n",
      "        )\n",
      "        (proj): Linear(in_features=256, out_features=256, bias=True)\n",
      "        (dropout): Dropout(p=0.2, inplace=False)\n",
      "      )\n",
      "      (ffwd): FeedFoward(\n",
      "        (net): Sequential(\n",
      "          (0): Linear(in_features=256, out_features=1024, bias=True)\n",
      "          (1): ReLU()\n",
      "          (2): Linear(in_features=1024, out_features=256, bias=True)\n",
      "          (3): Dropout(p=0.2, inplace=False)\n",
      "        )\n",
      "      )\n",
      "      (ln1): LayerNorm()\n",
      "      (ln2): LayerNorm()\n",
      "    )\n",
      "    (8): Block(\n",
      "      (sa): MultiHeadAttention(\n",
      "        (heads): ModuleList(\n",
      "          (0-15): 16 x Head(\n",
      "            (key): Linear(in_features=256, out_features=16, bias=False)\n",
      "            (query): Linear(in_features=256, out_features=16, bias=False)\n",
      "            (value): Linear(in_features=256, out_features=16, bias=False)\n",
      "            (dropout): Dropout(p=0.2, inplace=False)\n",
      "          )\n",
      "        )\n",
      "        (proj): Linear(in_features=256, out_features=256, bias=True)\n",
      "        (dropout): Dropout(p=0.2, inplace=False)\n",
      "      )\n",
      "      (ffwd): FeedFoward(\n",
      "        (net): Sequential(\n",
      "          (0): Linear(in_features=256, out_features=1024, bias=True)\n",
      "          (1): ReLU()\n",
      "          (2): Linear(in_features=1024, out_features=256, bias=True)\n",
      "          (3): Dropout(p=0.2, inplace=False)\n",
      "        )\n",
      "      )\n",
      "      (ln1): LayerNorm()\n",
      "      (ln2): LayerNorm()\n",
      "    )\n",
      "    (9): Block(\n",
      "      (sa): MultiHeadAttention(\n",
      "        (heads): ModuleList(\n",
      "          (0-15): 16 x Head(\n",
      "            (key): Linear(in_features=256, out_features=16, bias=False)\n",
      "            (query): Linear(in_features=256, out_features=16, bias=False)\n",
      "            (value): Linear(in_features=256, out_features=16, bias=False)\n",
      "            (dropout): Dropout(p=0.2, inplace=False)\n",
      "          )\n",
      "        )\n",
      "        (proj): Linear(in_features=256, out_features=256, bias=True)\n",
      "        (dropout): Dropout(p=0.2, inplace=False)\n",
      "      )\n",
      "      (ffwd): FeedFoward(\n",
      "        (net): Sequential(\n",
      "          (0): Linear(in_features=256, out_features=1024, bias=True)\n",
      "          (1): ReLU()\n",
      "          (2): Linear(in_features=1024, out_features=256, bias=True)\n",
      "          (3): Dropout(p=0.2, inplace=False)\n",
      "        )\n",
      "      )\n",
      "      (ln1): LayerNorm()\n",
      "      (ln2): LayerNorm()\n",
      "    )\n",
      "    (10): Block(\n",
      "      (sa): MultiHeadAttention(\n",
      "        (heads): ModuleList(\n",
      "          (0-15): 16 x Head(\n",
      "            (key): Linear(in_features=256, out_features=16, bias=False)\n",
      "            (query): Linear(in_features=256, out_features=16, bias=False)\n",
      "            (value): Linear(in_features=256, out_features=16, bias=False)\n",
      "            (dropout): Dropout(p=0.2, inplace=False)\n",
      "          )\n",
      "        )\n",
      "        (proj): Linear(in_features=256, out_features=256, bias=True)\n",
      "        (dropout): Dropout(p=0.2, inplace=False)\n",
      "      )\n",
      "      (ffwd): FeedFoward(\n",
      "        (net): Sequential(\n",
      "          (0): Linear(in_features=256, out_features=1024, bias=True)\n",
      "          (1): ReLU()\n",
      "          (2): Linear(in_features=1024, out_features=256, bias=True)\n",
      "          (3): Dropout(p=0.2, inplace=False)\n",
      "        )\n",
      "      )\n",
      "      (ln1): LayerNorm()\n",
      "      (ln2): LayerNorm()\n",
      "    )\n",
      "    (11): Block(\n",
      "      (sa): MultiHeadAttention(\n",
      "        (heads): ModuleList(\n",
      "          (0-15): 16 x Head(\n",
      "            (key): Linear(in_features=256, out_features=16, bias=False)\n",
      "            (query): Linear(in_features=256, out_features=16, bias=False)\n",
      "            (value): Linear(in_features=256, out_features=16, bias=False)\n",
      "            (dropout): Dropout(p=0.2, inplace=False)\n",
      "          )\n",
      "        )\n",
      "        (proj): Linear(in_features=256, out_features=256, bias=True)\n",
      "        (dropout): Dropout(p=0.2, inplace=False)\n",
      "      )\n",
      "      (ffwd): FeedFoward(\n",
      "        (net): Sequential(\n",
      "          (0): Linear(in_features=256, out_features=1024, bias=True)\n",
      "          (1): ReLU()\n",
      "          (2): Linear(in_features=1024, out_features=256, bias=True)\n",
      "          (3): Dropout(p=0.2, inplace=False)\n",
      "        )\n",
      "      )\n",
      "      (ln1): LayerNorm()\n",
      "      (ln2): LayerNorm()\n",
      "    )\n",
      "  )\n",
      "  (ln_f): LayerNorm()\n",
      "  (lm_head): Linear(in_features=256, out_features=7000, bias=True)\n",
      ")\n",
      "13.124952 M parameters\n"
     ]
    }
   ],
   "source": [
    "model = GPTLanguageModel()\n",
    "print(model)\n",
    "m = model.to(device)\n",
    "print(sum(p.numel() for p in m.parameters())/1e6, 'M parameters')"
   ]
  },
  {
   "cell_type": "code",
   "execution_count": 13,
   "metadata": {
    "id": "zt2kR9Fpdpxj"
   },
   "outputs": [],
   "source": [
    "optimizer = torch.optim.AdamW(model.parameters(), lr=learning_rate)"
   ]
  },
  {
   "cell_type": "code",
   "execution_count": null,
   "metadata": {
    "colab": {
     "base_uri": "https://localhost:8080/"
    },
    "id": "lnnKcn6Ldc0n",
    "outputId": "4e08e14b-0291-4af7-ed22-471c9de55afa"
   },
   "outputs": [
    {
     "name": "stdout",
     "output_type": "stream",
     "text": [
      "torch.Size([16384, 7000]) torch.Size([16384])\n",
      "torch.Size([16384, 7000]) torch.Size([16384])\n"
     ]
    }
   ],
   "source": [
    "for iter in range(max_iters):\n",
    "    if iter % eval_interval == 0 or iter == max_iters - 1:\n",
    "        losses = estimate_loss()\n",
    "        print(f\"step {iter}: train loss {losses['train']:.4f}, val loss {losses['val']:.4f}\")\n",
    "\n",
    "    xb, yb = get_batch('train')\n",
    "\n",
    "    logits, loss = model(xb, yb)\n",
    "    optimizer.zero_grad(set_to_none=True)\n",
    "    loss.backward()\n",
    "    optimizer.step()"
   ]
  },
  {
   "cell_type": "code",
   "execution_count": 18,
   "metadata": {
    "id": "0pL13qtAzpvj"
   },
   "outputs": [],
   "source": [
    "with open('C:\\\\Users\\\\NiKordzakhia\\\\Desktop\\\\Transformer-BasedGPTModel\\\\GPTModel', 'wb') as f:\n",
    "    pickle.dump(model, f)\n",
    "\n",
    "with open('C:\\\\Users\\\\NiKordzakhia\\\\Desktop\\\\Transformer-BasedGPTModel\\\\GPTModel', 'rb') as f:\n",
    "    gpt_model = pickle.load(f)"
   ]
  },
  {
   "cell_type": "code",
   "execution_count": 21,
   "metadata": {
    "colab": {
     "base_uri": "https://localhost:8080/"
    },
    "id": "ikBOWj1InyFq",
    "outputId": "efb415e6-5c6f-4d5c-e970-93e08c683f7a"
   },
   "outputs": [
    {
     "name": "stdout",
     "output_type": "stream",
     "text": [
      "\u0000, ხას კრძალვით და სხვა ასრე ბაგე, რომელი.\n",
      " ფრიდონ რამცაშვეწა, ათრთონა, აღარ სიკვდილისა სისხლსა უხები.\n",
      "\n",
      " ცუდია ჩემი, ღმერთსა ეელთა ხევა,\n",
      " თქვა: “ თუ: ” ჩემი ავდეგო, ყმა თორმეტი უყვარარისა,\n",
      " და მიყო, გონება საქებარის რასმე ხრმა ვერ დასმადცაოვსა, ვით ხელმწიფეო, დარბაზს, ვის დამობილისა,\n",
      " და მათკე სამსახურად ვეღარა, შეფესა, მაგრა დამლების.\n",
      "\n",
      "“ ჩემთვის მეკობ უხმო, ყმამან სიტურფე არ ბრძანებდა, თუ ონარ- ნაბ მისლვა რასაცა ორ ამბისა ამერსა;\n",
      " ღმერთი მუხლილობასა,\n",
      " და შენი რა ვიქმნები, ცრემლი მოეხვია,\n",
      "“ ვაზირო, სხვად არა ქე- გეუბნიან; ვინ გმირისა, მიჯნურობა თხოს მიწყივ ჩემმან მმართებს ზესების;\n",
      " აქანამდის ბნდებიან.\n",
      " ვეღარ ვისმცაა, ასმათ სდის, ვარობი,\n",
      " მშვილდსა და შეექმნა, სხვა რამე მჭირს, ვპოვე აღარასọ ობლ- თორმეტი ჩამო მივუკვირდა,\n",
      " და მე ვით მოამბ მოეხვივნეს, ლომსა თუ᰾\n"
     ]
    }
   ],
   "source": [
    "context = torch.zeros((1, 1), dtype=torch.long, device=device)\n",
    "print(tokenizer.decode(gpt_model.generate(context, max_new_tokens=200)[0].tolist()))"
   ]
  },
  {
   "cell_type": "code",
   "execution_count": null,
   "metadata": {
    "id": "JLYY5E8mtLuK"
   },
   "outputs": [],
   "source": [
    "\"\"\"\n",
    ", ხელი მტკილსა, რა ვუთხარ: არვისგან, ღმერთსა იცი, სხვა დავკარგე გვირგვინი, მამაეცა არ გაიზიდის, აქათების.\n",
    "\n",
    "\n",
    " საყვარელსა კაცმან გვის, ტურფაო გულ- აღმაფრეანვენვის მხეცთა ნახვა გარდაჰლდი, არ გამწყვევიდეს, გაიწყინა,\n",
    " და ვერ ვერ გავძობასა, უსულოდ გამქნოს, ყოველგნითთქმელი.\n",
    "\n",
    " ვიგონებდი, მანდა გა მოვიდიანებისა,\n",
    " მას ღმრთისა საუბარი არა გაათაეანთა, მივის დია, ქებალენეგვარა,\n",
    " ნაცვლად დაისვა, რათმე ვიკადრებ სავაგლა მევი,\n",
    " გკადრო, ამას მის ყმისაობდეს,\n",
    " ეტყვის: “ ვა; მკვდართა ხერების, უშამვრისა სოფლისა,\n",
    " და მეფეო, მშობელი ვიყავ მას თუ ყორნისნელად რათმე მოჰკვდე, არა ვიცი, ვისიცა მაგისა\n",
    " და თუ არსად არ ცნალსა, ათასჯერ ამად არ- ჭვრეტა იშვე,\n",
    "\n",
    "“ მიბრძანა თუ გველისა უმული,\n",
    " და რა მათ აქა ვტირ უკუმ შექმ!\n",
    "\n",
    " გავ­,\n",
    " კაცსა მამაცნებისაì დაჰხსნია ?”\n",
    " მოასხნეს მე\n",
    "\"\"\""
   ]
  }
 ],
 "metadata": {
  "accelerator": "GPU",
  "colab": {
   "gpuType": "T4",
   "provenance": []
  },
  "kernelspec": {
   "display_name": "base",
   "language": "python",
   "name": "python3"
  },
  "language_info": {
   "codemirror_mode": {
    "name": "ipython",
    "version": 3
   },
   "file_extension": ".py",
   "mimetype": "text/x-python",
   "name": "python",
   "nbconvert_exporter": "python",
   "pygments_lexer": "ipython3",
   "version": "3.9.13"
  }
 },
 "nbformat": 4,
 "nbformat_minor": 0
}
